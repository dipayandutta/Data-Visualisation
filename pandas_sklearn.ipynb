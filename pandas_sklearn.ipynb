{
 "cells": [
  {
   "cell_type": "markdown",
   "metadata": {},
   "source": [
    "# Types of supervised learning\n",
    "\n",
    "- **Classification** - Predict a categorical response \n",
    "- **Regression** - Predict a continous response "
   ]
  },
  {
   "cell_type": "markdown",
   "metadata": {},
   "source": [
    "# Reading Data using pandas"
   ]
  },
  {
   "cell_type": "code",
   "execution_count": 1,
   "metadata": {
    "collapsed": true
   },
   "outputs": [],
   "source": [
    "# Conventional way to import pandas\n",
    "import pandas as pd"
   ]
  },
  {
   "cell_type": "code",
   "execution_count": 2,
   "metadata": {
    "collapsed": false
   },
   "outputs": [
    {
     "data": {
      "text/html": [
       "<div>\n",
       "<table border=\"1\" class=\"dataframe\">\n",
       "  <thead>\n",
       "    <tr style=\"text-align: right;\">\n",
       "      <th></th>\n",
       "      <th>Unnamed: 0</th>\n",
       "      <th>TV</th>\n",
       "      <th>Radio</th>\n",
       "      <th>Newspaper</th>\n",
       "      <th>Sales</th>\n",
       "    </tr>\n",
       "  </thead>\n",
       "  <tbody>\n",
       "    <tr>\n",
       "      <th>0</th>\n",
       "      <td>1</td>\n",
       "      <td>230.1</td>\n",
       "      <td>37.8</td>\n",
       "      <td>69.2</td>\n",
       "      <td>22.1</td>\n",
       "    </tr>\n",
       "    <tr>\n",
       "      <th>1</th>\n",
       "      <td>2</td>\n",
       "      <td>44.5</td>\n",
       "      <td>39.3</td>\n",
       "      <td>45.1</td>\n",
       "      <td>10.4</td>\n",
       "    </tr>\n",
       "    <tr>\n",
       "      <th>2</th>\n",
       "      <td>3</td>\n",
       "      <td>17.2</td>\n",
       "      <td>45.9</td>\n",
       "      <td>69.3</td>\n",
       "      <td>9.3</td>\n",
       "    </tr>\n",
       "    <tr>\n",
       "      <th>3</th>\n",
       "      <td>4</td>\n",
       "      <td>151.5</td>\n",
       "      <td>41.3</td>\n",
       "      <td>58.5</td>\n",
       "      <td>18.5</td>\n",
       "    </tr>\n",
       "    <tr>\n",
       "      <th>4</th>\n",
       "      <td>5</td>\n",
       "      <td>180.8</td>\n",
       "      <td>10.8</td>\n",
       "      <td>58.4</td>\n",
       "      <td>12.9</td>\n",
       "    </tr>\n",
       "  </tbody>\n",
       "</table>\n",
       "</div>"
      ],
      "text/plain": [
       "   Unnamed: 0     TV  Radio  Newspaper  Sales\n",
       "0           1  230.1   37.8       69.2   22.1\n",
       "1           2   44.5   39.3       45.1   10.4\n",
       "2           3   17.2   45.9       69.3    9.3\n",
       "3           4  151.5   41.3       58.5   18.5\n",
       "4           5  180.8   10.8       58.4   12.9"
      ]
     },
     "execution_count": 2,
     "metadata": {},
     "output_type": "execute_result"
    }
   ],
   "source": [
    "# Read csv file \n",
    "data = pd.read_csv('Advertising.csv')\n",
    "\n",
    "# Display the first 5 rows \n",
    "data.head()"
   ]
  },
  {
   "cell_type": "code",
   "execution_count": 3,
   "metadata": {
    "collapsed": false
   },
   "outputs": [
    {
     "data": {
      "text/html": [
       "<div>\n",
       "<table border=\"1\" class=\"dataframe\">\n",
       "  <thead>\n",
       "    <tr style=\"text-align: right;\">\n",
       "      <th></th>\n",
       "      <th>Unnamed: 0</th>\n",
       "      <th>TV</th>\n",
       "      <th>Radio</th>\n",
       "      <th>Newspaper</th>\n",
       "      <th>Sales</th>\n",
       "    </tr>\n",
       "  </thead>\n",
       "  <tbody>\n",
       "    <tr>\n",
       "      <th>195</th>\n",
       "      <td>196</td>\n",
       "      <td>38.2</td>\n",
       "      <td>3.7</td>\n",
       "      <td>13.8</td>\n",
       "      <td>7.6</td>\n",
       "    </tr>\n",
       "    <tr>\n",
       "      <th>196</th>\n",
       "      <td>197</td>\n",
       "      <td>94.2</td>\n",
       "      <td>4.9</td>\n",
       "      <td>8.1</td>\n",
       "      <td>9.7</td>\n",
       "    </tr>\n",
       "    <tr>\n",
       "      <th>197</th>\n",
       "      <td>198</td>\n",
       "      <td>177.0</td>\n",
       "      <td>9.3</td>\n",
       "      <td>6.4</td>\n",
       "      <td>12.8</td>\n",
       "    </tr>\n",
       "    <tr>\n",
       "      <th>198</th>\n",
       "      <td>199</td>\n",
       "      <td>283.6</td>\n",
       "      <td>42.0</td>\n",
       "      <td>66.2</td>\n",
       "      <td>25.5</td>\n",
       "    </tr>\n",
       "    <tr>\n",
       "      <th>199</th>\n",
       "      <td>200</td>\n",
       "      <td>232.1</td>\n",
       "      <td>8.6</td>\n",
       "      <td>8.7</td>\n",
       "      <td>13.4</td>\n",
       "    </tr>\n",
       "  </tbody>\n",
       "</table>\n",
       "</div>"
      ],
      "text/plain": [
       "     Unnamed: 0     TV  Radio  Newspaper  Sales\n",
       "195         196   38.2    3.7       13.8    7.6\n",
       "196         197   94.2    4.9        8.1    9.7\n",
       "197         198  177.0    9.3        6.4   12.8\n",
       "198         199  283.6   42.0       66.2   25.5\n",
       "199         200  232.1    8.6        8.7   13.4"
      ]
     },
     "execution_count": 3,
     "metadata": {},
     "output_type": "execute_result"
    }
   ],
   "source": [
    "# Display the last 5 rows \n",
    "data.tail()"
   ]
  },
  {
   "cell_type": "code",
   "execution_count": 4,
   "metadata": {
    "collapsed": false
   },
   "outputs": [
    {
     "data": {
      "text/plain": [
       "(200, 5)"
      ]
     },
     "execution_count": 4,
     "metadata": {},
     "output_type": "execute_result"
    }
   ],
   "source": [
    "# Check the shape of DataFrame (rows,columns)\n",
    "data.shape"
   ]
  },
  {
   "cell_type": "markdown",
   "metadata": {},
   "source": [
    "# Primary object types\n",
    "\n",
    "- **DataFrame** - rows and colums (like a spreadsheet)\n",
    "- **Series** - A single column "
   ]
  },
  {
   "cell_type": "code",
   "execution_count": 5,
   "metadata": {
    "collapsed": false
   },
   "outputs": [
    {
     "data": {
      "text/html": [
       "<div>\n",
       "<table border=\"1\" class=\"dataframe\">\n",
       "  <thead>\n",
       "    <tr style=\"text-align: right;\">\n",
       "      <th></th>\n",
       "      <th>TV</th>\n",
       "      <th>Radio</th>\n",
       "      <th>Newspaper</th>\n",
       "      <th>Sales</th>\n",
       "    </tr>\n",
       "  </thead>\n",
       "  <tbody>\n",
       "    <tr>\n",
       "      <th>1</th>\n",
       "      <td>230.1</td>\n",
       "      <td>37.8</td>\n",
       "      <td>69.2</td>\n",
       "      <td>22.1</td>\n",
       "    </tr>\n",
       "    <tr>\n",
       "      <th>2</th>\n",
       "      <td>44.5</td>\n",
       "      <td>39.3</td>\n",
       "      <td>45.1</td>\n",
       "      <td>10.4</td>\n",
       "    </tr>\n",
       "    <tr>\n",
       "      <th>3</th>\n",
       "      <td>17.2</td>\n",
       "      <td>45.9</td>\n",
       "      <td>69.3</td>\n",
       "      <td>9.3</td>\n",
       "    </tr>\n",
       "    <tr>\n",
       "      <th>4</th>\n",
       "      <td>151.5</td>\n",
       "      <td>41.3</td>\n",
       "      <td>58.5</td>\n",
       "      <td>18.5</td>\n",
       "    </tr>\n",
       "    <tr>\n",
       "      <th>5</th>\n",
       "      <td>180.8</td>\n",
       "      <td>10.8</td>\n",
       "      <td>58.4</td>\n",
       "      <td>12.9</td>\n",
       "    </tr>\n",
       "  </tbody>\n",
       "</table>\n",
       "</div>"
      ],
      "text/plain": [
       "      TV  Radio  Newspaper  Sales\n",
       "1  230.1   37.8       69.2   22.1\n",
       "2   44.5   39.3       45.1   10.4\n",
       "3   17.2   45.9       69.3    9.3\n",
       "4  151.5   41.3       58.5   18.5\n",
       "5  180.8   10.8       58.4   12.9"
      ]
     },
     "execution_count": 5,
     "metadata": {},
     "output_type": "execute_result"
    }
   ],
   "source": [
    "# Making unnamed col the index col\n",
    "data = pd.read_csv('Advertising.csv',index_col=0)\n",
    "\n",
    "#display the head()\n",
    "data.head()"
   ]
  },
  {
   "cell_type": "code",
   "execution_count": 6,
   "metadata": {
    "collapsed": false
   },
   "outputs": [
    {
     "data": {
      "text/html": [
       "<div>\n",
       "<table border=\"1\" class=\"dataframe\">\n",
       "  <thead>\n",
       "    <tr style=\"text-align: right;\">\n",
       "      <th></th>\n",
       "      <th>TV</th>\n",
       "      <th>Radio</th>\n",
       "      <th>Newspaper</th>\n",
       "      <th>Sales</th>\n",
       "    </tr>\n",
       "  </thead>\n",
       "  <tbody>\n",
       "    <tr>\n",
       "      <th>196</th>\n",
       "      <td>38.2</td>\n",
       "      <td>3.7</td>\n",
       "      <td>13.8</td>\n",
       "      <td>7.6</td>\n",
       "    </tr>\n",
       "    <tr>\n",
       "      <th>197</th>\n",
       "      <td>94.2</td>\n",
       "      <td>4.9</td>\n",
       "      <td>8.1</td>\n",
       "      <td>9.7</td>\n",
       "    </tr>\n",
       "    <tr>\n",
       "      <th>198</th>\n",
       "      <td>177.0</td>\n",
       "      <td>9.3</td>\n",
       "      <td>6.4</td>\n",
       "      <td>12.8</td>\n",
       "    </tr>\n",
       "    <tr>\n",
       "      <th>199</th>\n",
       "      <td>283.6</td>\n",
       "      <td>42.0</td>\n",
       "      <td>66.2</td>\n",
       "      <td>25.5</td>\n",
       "    </tr>\n",
       "    <tr>\n",
       "      <th>200</th>\n",
       "      <td>232.1</td>\n",
       "      <td>8.6</td>\n",
       "      <td>8.7</td>\n",
       "      <td>13.4</td>\n",
       "    </tr>\n",
       "  </tbody>\n",
       "</table>\n",
       "</div>"
      ],
      "text/plain": [
       "        TV  Radio  Newspaper  Sales\n",
       "196   38.2    3.7       13.8    7.6\n",
       "197   94.2    4.9        8.1    9.7\n",
       "198  177.0    9.3        6.4   12.8\n",
       "199  283.6   42.0       66.2   25.5\n",
       "200  232.1    8.6        8.7   13.4"
      ]
     },
     "execution_count": 6,
     "metadata": {},
     "output_type": "execute_result"
    }
   ],
   "source": [
    "data.tail()"
   ]
  },
  {
   "cell_type": "code",
   "execution_count": 7,
   "metadata": {
    "collapsed": false
   },
   "outputs": [
    {
     "data": {
      "text/plain": [
       "(200, 4)"
      ]
     },
     "execution_count": 7,
     "metadata": {},
     "output_type": "execute_result"
    }
   ],
   "source": [
    "data.shape"
   ]
  },
  {
   "cell_type": "markdown",
   "metadata": {},
   "source": [
    "**What are the features?**\n",
    "\n",
    "- **TV** - Advertising dollars spent on TV for a single product in a given market(in thousand of dollars)\n",
    "- **Radio** - Advertising dollats spent on Radio\n",
    "- **Newspaper** - Advertising dollats spent on Newspaper"
   ]
  },
  {
   "cell_type": "markdown",
   "metadata": {},
   "source": [
    "**What is the response?**\n",
    "\n",
    "- **Sales**: sales of a single product in a given market(in thousand of item)"
   ]
  },
  {
   "cell_type": "markdown",
   "metadata": {},
   "source": [
    "**What Elese I know?** \n",
    "\n",
    "- Because the response variable is continuous , this is a **regression** problem.\n",
    "- There are 200 **observations** (represented by rows) , and each observation is a single market."
   ]
  },
  {
   "cell_type": "code",
   "execution_count": 8,
   "metadata": {
    "collapsed": true
   },
   "outputs": [],
   "source": [
    "# import seaborn library , which is use for statistical data visualisation , and this is build\n",
    "#top of the matplotlib \n",
    "import seaborn as sns\n",
    "\n",
    "# allow plots to appear within notebook\n",
    "%matplotlib inline"
   ]
  },
  {
   "cell_type": "code",
   "execution_count": 9,
   "metadata": {
    "collapsed": false
   },
   "outputs": [
    {
     "data": {
      "text/plain": [
       "<seaborn.axisgrid.PairGrid at 0x7fb25fb2b9d0>"
      ]
     },
     "execution_count": 9,
     "metadata": {},
     "output_type": "execute_result"
    },
    {
     "data": {
      "image/png": "[encoded data removed]",
      "text/plain": [
       "<matplotlib.figure.Figure at 0x7fb26a3c4f10>"
      ]
     },
     "metadata": {},
     "output_type": "display_data"
    }
   ],
   "source": [
    "# visualize the relationship between the features and the response using scatterplots\n",
    "sns.pairplot(data,x_vars=['TV','Radio','Newspaper'],y_vars='Sales')"
   ]
  },
  {
   "cell_type": "code",
   "execution_count": 10,
   "metadata": {
    "collapsed": false
   },
   "outputs": [
    {
     "data": {
      "text/plain": [
       "<seaborn.axisgrid.PairGrid at 0x7fb25f9373d0>"
      ]
     },
     "execution_count": 10,
     "metadata": {},
     "output_type": "execute_result"
    },
    {
     "data": {
      "image/png": "[encoded data removed]",
      "text/plain": [
       "<matplotlib.figure.Figure at 0x7fb25fb2b5d0>"
      ]
     },
     "metadata": {},
     "output_type": "display_data"
    }
   ],
   "source": [
    "# Change the size and the aspect ration so i can visualize this more easily \n",
    "sns.pairplot(data,x_vars=['TV','Radio','Newspaper'],y_vars='Sales',size=7,aspect=0.7)"
   ]
  },
  {
   "cell_type": "markdown",
   "metadata": {},
   "source": [
    "**Observation from the plots** \n",
    "\n",
    "- TV and advertising in linear relationship , this means TV advertising increases so do the sales increases .\n",
    "- Less strong relationship in Radio advertising and sales .\n",
    "- And very week relationship between Newspaper and Sales ."
   ]
  },
  {
   "cell_type": "code",
   "execution_count": 11,
   "metadata": {
    "collapsed": false
   },
   "outputs": [
    {
     "data": {
      "text/plain": [
       "<seaborn.axisgrid.PairGrid at 0x7fb25f6f7bd0>"
      ]
     },
     "execution_count": 11,
     "metadata": {},
     "output_type": "execute_result"
    },
    {
     "data": {
      "image/png": "[encoded data removed]",
      "text/plain": [
       "<matplotlib.figure.Figure at 0x7fb25f972210>"
      ]
     },
     "metadata": {},
     "output_type": "display_data"
    }
   ],
   "source": [
    "# Add One more argument in seaborn so seaborn will give me a relation , seaborn will put a line \n",
    "# of best fit , and 95% confidence band\n",
    "sns.pairplot(data,x_vars=['TV','Radio','Newspaper'],y_vars='Sales',size=7,aspect=0.7,kind='reg')"
   ]
  },
  {
   "cell_type": "markdown",
   "metadata": {},
   "source": [
    "**Difference between Regression and Linear Regression?** \n",
    " Regression as it relates to machine learning is simple a type of supervised learning problem .\n",
    " In which the response is continous . Linear Regression is a particular machine learning model\n",
    " that can be used for regression problems."
   ]
  },
  {
   "cell_type": "markdown",
   "metadata": {},
   "source": [
    "# Linear Regression \n",
    "\n",
    "**Pros** - Fast , no tunning required , highly interpretable\n",
    "**Cons** - unlikely to produce the best predictive accuracy (as compared to other model), because linear regression presumes linear relationship between the features and response .If the relationship between the features and response is highly non-linear , then linear regression will be unable to model the relationship , and thus it's predection is not very accurate ."
   ]
  },
  {
   "cell_type": "markdown",
   "metadata": {},
   "source": [
    "**Linear Regression Equation**\n",
    "$$ y = \\beta_0 + \\beta_1x_1+\\beta_2x_2+....+\\beta_nx_n $$\n",
    "\n",
    "**Where**,\n",
    "- $y=$ is the response variable \n",
    "- $\\beta_0=$ is itercept\n",
    "- $\\beta_1=$ is the coffecient of $x_1$ (is the first feature)\n",
    "- $\\beta_2=$ is the coffecinet of $x_2$ (is the 2nd feature)\n",
    "- $\\beta_n=$ is the coffecient if $x_n$ (is the nth feature)"
   ]
  },
  {
   "cell_type": "markdown",
   "metadata": {},
   "source": [
    "**In this case**\n",
    "\n",
    "$$y = \\beta_0 + \\beta_1\\ x\\ TV + \\beta_2\\ x\\ Radio +\\ \\beta_3\\ x\\ Newspaper$$\n",
    "\n",
    "**$\\beta$** \n",
    "values are called the **model coefficients**. These values are \"learned\" during the model fitting step using \"least squares\" criterion. Then the fit model can be used in prediction."
   ]
  },
  {
   "cell_type": "markdown",
   "metadata": {},
   "source": [
    "# Preparing X and y using pandas\n",
    "\n",
    "- scikit-learn expects X (feature matrix) and y (response vector) to NumPy arrays.\n",
    "- However , pandas is built on top of NumPy.\n",
    "- Thus, X can be a pandas DataFrame and y cane a pandas Series ."
   ]
  },
  {
   "cell_type": "code",
   "execution_count": 24,
   "metadata": {
    "collapsed": false
   },
   "outputs": [
    {
     "data": {
      "text/html": [
       "<div>\n",
       "<table border=\"1\" class=\"dataframe\">\n",
       "  <thead>\n",
       "    <tr style=\"text-align: right;\">\n",
       "      <th></th>\n",
       "      <th>TV</th>\n",
       "      <th>Radio</th>\n",
       "      <th>Newspaper</th>\n",
       "    </tr>\n",
       "  </thead>\n",
       "  <tbody>\n",
       "    <tr>\n",
       "      <th>1</th>\n",
       "      <td>230.1</td>\n",
       "      <td>37.8</td>\n",
       "      <td>69.2</td>\n",
       "    </tr>\n",
       "    <tr>\n",
       "      <th>2</th>\n",
       "      <td>44.5</td>\n",
       "      <td>39.3</td>\n",
       "      <td>45.1</td>\n",
       "    </tr>\n",
       "    <tr>\n",
       "      <th>3</th>\n",
       "      <td>17.2</td>\n",
       "      <td>45.9</td>\n",
       "      <td>69.3</td>\n",
       "    </tr>\n",
       "    <tr>\n",
       "      <th>4</th>\n",
       "      <td>151.5</td>\n",
       "      <td>41.3</td>\n",
       "      <td>58.5</td>\n",
       "    </tr>\n",
       "    <tr>\n",
       "      <th>5</th>\n",
       "      <td>180.8</td>\n",
       "      <td>10.8</td>\n",
       "      <td>58.4</td>\n",
       "    </tr>\n",
       "  </tbody>\n",
       "</table>\n",
       "</div>"
      ],
      "text/plain": [
       "      TV  Radio  Newspaper\n",
       "1  230.1   37.8       69.2\n",
       "2   44.5   39.3       45.1\n",
       "3   17.2   45.9       69.3\n",
       "4  151.5   41.3       58.5\n",
       "5  180.8   10.8       58.4"
      ]
     },
     "execution_count": 24,
     "metadata": {},
     "output_type": "execute_result"
    }
   ],
   "source": [
    "# Create a python list of feature names\n",
    "feature_cols = ['TV','Radio','Newspaper']\n",
    "\n",
    "# use the list to select a subset of the original Dataframe\n",
    "x = data[feature_cols]\n",
    "\n",
    "# Equivalent command to this in one line \n",
    "#x = data[['TV','Radio','Newspaper']]\n",
    "\n",
    "#print the frist 5 rows\n",
    "x.head()"
   ]
  },
  {
   "cell_type": "code",
   "execution_count": 25,
   "metadata": {
    "collapsed": false
   },
   "outputs": [
    {
     "name": "stdout",
     "output_type": "stream",
     "text": [
      "<class 'pandas.core.frame.DataFrame'>\n",
      "(200, 3)\n"
     ]
    }
   ],
   "source": [
    "# Check the type and shape of X\n",
    "print type(x)\n",
    "print x.shape"
   ]
  },
  {
   "cell_type": "code",
   "execution_count": 26,
   "metadata": {
    "collapsed": false
   },
   "outputs": [
    {
     "data": {
      "text/plain": [
       "1    22.1\n",
       "2    10.4\n",
       "3     9.3\n",
       "4    18.5\n",
       "5    12.9\n",
       "Name: Sales, dtype: float64"
      ]
     },
     "execution_count": 26,
     "metadata": {},
     "output_type": "execute_result"
    }
   ],
   "source": [
    "# Select a series from the DataFrame \n",
    "y = data['Sales']\n",
    "\n",
    "#equivalent command that works if there are no spaces in the column name\n",
    "#y = data.Sales\n",
    "\n",
    "# print the first 5 values \n",
    "y.head()"
   ]
  },
  {
   "cell_type": "code",
   "execution_count": 27,
   "metadata": {
    "collapsed": false
   },
   "outputs": [
    {
     "name": "stdout",
     "output_type": "stream",
     "text": [
      "<class 'pandas.core.series.Series'>\n",
      "(200,)\n"
     ]
    }
   ],
   "source": [
    "# Check the type and the shape \n",
    "print type(y)\n",
    "print y.shape"
   ]
  },
  {
   "cell_type": "markdown",
   "metadata": {},
   "source": [
    "# Splitting the X and y into training and testing sets"
   ]
  },
  {
   "cell_type": "code",
   "execution_count": 28,
   "metadata": {
    "collapsed": true
   },
   "outputs": [],
   "source": [
    "from sklearn.cross_validation import train_test_split\n",
    "x_train,x_test , y_train,y_test = train_test_split(x,y,random_state=1)"
   ]
  },
  {
   "cell_type": "code",
   "execution_count": 29,
   "metadata": {
    "collapsed": false
   },
   "outputs": [
    {
     "name": "stdout",
     "output_type": "stream",
     "text": [
      "(150, 3)\n",
      "(50, 3)\n",
      "(150,)\n",
      "(50,)\n"
     ]
    }
   ],
   "source": [
    "# Default split is 75% for training and 25% for testing\n",
    "print x_train.shape\n",
    "print x_test.shape\n",
    "print y_train.shape\n",
    "print y_test.shape"
   ]
  },
  {
   "cell_type": "markdown",
   "metadata": {},
   "source": [
    "# Linear Regression in scikit-learn"
   ]
  },
  {
   "cell_type": "code",
   "execution_count": 30,
   "metadata": {
    "collapsed": false
   },
   "outputs": [
    {
     "data": {
      "text/plain": [
       "LinearRegression(copy_X=True, fit_intercept=True, n_jobs=1, normalize=False)"
      ]
     },
     "execution_count": 30,
     "metadata": {},
     "output_type": "execute_result"
    }
   ],
   "source": [
    "# import module\n",
    "from sklearn.linear_model import LinearRegression\n",
    "\n",
    "#instantiate\n",
    "linreg = LinearRegression()\n",
    "\n",
    "# fit the model to the training data(learn the coefficient)\n",
    "linreg.fit(x_train,y_train)"
   ]
  },
  {
   "cell_type": "markdown",
   "metadata": {},
   "source": [
    "# Interpreting the model coefficients"
   ]
  },
  {
   "cell_type": "code",
   "execution_count": 32,
   "metadata": {
    "collapsed": false
   },
   "outputs": [
    {
     "name": "stdout",
     "output_type": "stream",
     "text": [
      "2.87696662232\n",
      "[ 0.04656457  0.17915812  0.00345046]\n"
     ]
    }
   ],
   "source": [
    "# print the intercept and coefficients\n",
    "print linreg.intercept_\n",
    "print linreg.coef_"
   ]
  },
  {
   "cell_type": "code",
   "execution_count": 33,
   "metadata": {
    "collapsed": false
   },
   "outputs": [
    {
     "data": {
      "text/plain": [
       "[('TV', 0.04656456787415026),\n",
       " ('Radio', 0.17915812245088847),\n",
       " ('Newspaper', 0.0034504647111804343)]"
      ]
     },
     "execution_count": 33,
     "metadata": {},
     "output_type": "execute_result"
    }
   ],
   "source": [
    "# pair the features with the coefficients \n",
    "zip(feature_cols, linreg.coef_)"
   ]
  },
  {
   "cell_type": "markdown",
   "metadata": {},
   "source": [
    "$$y = 2.88 + 0.0466 x\\ TV +\\ 0.179 x\\ Radio +\\ 0.00345 x\\ Newspaper $$\n",
    "\n",
    "** How do i interpret the TV coefficient (0.0466) ? **\n",
    "\n",
    "- For a given amount of Radio and Newspaper ad spending a **\"Unit\" increase in TV ad spending ** is associated with a **0.0466 \"unit\" increase in Sales**\n",
    "- Or more clearly :- For a given amount of Radio and Newspaper ad spending , **and additional $1000 spend TV adds** with and **increase in sales of 46.6 items**\n",
    "\n",
    "***Important Notes***\n",
    "- This is a statement of **assosication** , not **causation**\n",
    "- If an increase in TV ad spending was associated with a **decrease** in sales $\\beta_1$ would be **negative**."
   ]
  },
  {
   "cell_type": "markdown",
   "metadata": {},
   "source": [
    "# Making Prediction"
   ]
  },
  {
   "cell_type": "code",
   "execution_count": 5,
   "metadata": {
    "collapsed": false
   },
   "outputs": [
    {
     "name": "stdout",
     "output_type": "stream",
     "text": [
      "      TV  Radio  Newspaper\n",
      "0  230.1   37.8       69.2\n",
      "1   44.5   39.3       45.1\n",
      "2   17.2   45.9       69.3\n",
      "3  151.5   41.3       58.5\n",
      "4  180.8   10.8       58.4\n",
      "<class 'pandas.core.frame.DataFrame'>\n",
      "(200, 3)\n",
      "X training Data Shape  (150, 3)\n",
      "X Test Data Shape (50, 3)\n",
      "Y training Data Shape (150,)\n",
      "Y Testing Data Shape (50,)\n",
      "2.87696662232\n",
      "[ 0.04656457  0.17915812  0.00345046]\n"
     ]
    },
    {
     "data": {
      "text/plain": [
       "[('TV', 0.04656456787415026),\n",
       " ('Radio', 0.17915812245088847),\n",
       " ('Newspaper', 0.0034504647111804343)]"
      ]
     },
     "execution_count": 5,
     "metadata": {},
     "output_type": "execute_result"
    }
   ],
   "source": [
    "import pandas as pd \n",
    "\n",
    "data = pd.read_csv('Advertising.csv')\n",
    "\n",
    "# Select a series from the DataFrame \n",
    "y = data['Sales']\n",
    "\n",
    "#equivalent command that works if there are no spaces in the column name\n",
    "#y = data.Sales\n",
    "\n",
    "# print the first 5 values \n",
    "y.head()\n",
    "\n",
    "# Create a python list of feature names\n",
    "feature_cols = ['TV','Radio','Newspaper']\n",
    "\n",
    "# use the list to select a subset of the original Dataframe\n",
    "x = data[feature_cols]\n",
    "\n",
    "# Equivalent command to this in one line \n",
    "#x = data[['TV','Radio','Newspaper']]\n",
    "\n",
    "#print the frist 5 rows\n",
    "print x.head()\n",
    "\n",
    "# Check the type and shape of X\n",
    "print type(x)\n",
    "print x.shape\n",
    "\n",
    "from sklearn.cross_validation import train_test_split\n",
    "x_train,x_test , y_train,y_test = train_test_split(x,y,random_state=1)\n",
    "\n",
    "# printing the traing and testing data shapes\n",
    "print \"X training Data Shape \",x_train.shape\n",
    "print \"X Test Data Shape\",x_test.shape\n",
    "print \"Y training Data Shape\",y_train.shape\n",
    "print \"Y Testing Data Shape\",y_test.shape\n",
    "# import module\n",
    "from sklearn.linear_model import LinearRegression\n",
    "\n",
    "#instantiate\n",
    "linreg = LinearRegression()\n",
    "\n",
    "# fit the model to the training data(learn the coefficient)\n",
    "linreg.fit(x_train,y_train)\n",
    "\n",
    "# print the intercept and coefficients\n",
    "print linreg.intercept_\n",
    "print linreg.coef_\n",
    "\n",
    "# pair the features with the coefficients \n",
    "zip(feature_cols, linreg.coef_)"
   ]
  },
  {
   "cell_type": "code",
   "execution_count": 6,
   "metadata": {
    "collapsed": true
   },
   "outputs": [],
   "source": [
    "# Make predictions on the testing set\n",
    "y_pred = linreg.predict(x_test)"
   ]
  },
  {
   "cell_type": "code",
   "execution_count": 7,
   "metadata": {
    "collapsed": false
   },
   "outputs": [
    {
     "name": "stdout",
     "output_type": "stream",
     "text": [
      "[ 21.70910292  16.41055243   7.60955058  17.80769552  18.6146359\n",
      "  23.83573998  16.32488681  13.43225536   9.17173403  17.333853\n",
      "  14.44479482   9.83511973  17.18797614  16.73086831  15.05529391\n",
      "  15.61434433  12.42541574  17.17716376  11.08827566  18.00537501\n",
      "   9.28438889  12.98458458   8.79950614  10.42382499  11.3846456\n",
      "  14.98082512   9.78853268  19.39643187  18.18099936  17.12807566\n",
      "  21.54670213  14.69809481  16.24641438  12.32114579  19.92422501\n",
      "  15.32498602  13.88726522  10.03162255  20.93105915   7.44936831\n",
      "   3.64695761   7.22020178   5.9962782   18.43381853   8.39408045\n",
      "  14.08371047  15.02195699  20.35836418  20.57036347  19.60636679]\n"
     ]
    }
   ],
   "source": [
    "print y_pred"
   ]
  },
  {
   "cell_type": "markdown",
   "metadata": {},
   "source": [
    "# Model evaluation metrics for regression\n",
    "\n",
    "Evaluation metrics for classification problems , such as **accuracy** , are note useful for regression problems. Instead , we need evaluation metrics designed for comparing continous values.\n",
    "\n",
    "Lets create some example numric predictions , and calculate **three common evaluation matrics** for regression problems."
   ]
  },
  {
   "cell_type": "code",
   "execution_count": 13,
   "metadata": {
    "collapsed": true
   },
   "outputs": [],
   "source": [
    "# define true and predict response values\n",
    "true = [100,50,30,20]\n",
    "pred = [90,50,50,30]"
   ]
  },
  {
   "cell_type": "markdown",
   "metadata": {},
   "source": [
    "**Mean Absolute Error(MAE)** is the mean of the absolute values of the Errors\n",
    "\n",
    "$$ \\frac{1}{n}=\\sum_{i=1}^{n}|y_i -\\hat{y_i}| $$\n",
    "\n",
    "**Where**\n",
    "**Errors** are the difference between true and predicted values "
   ]
  },
  {
   "cell_type": "code",
   "execution_count": 14,
   "metadata": {
    "collapsed": false
   },
   "outputs": [
    {
     "name": "stdout",
     "output_type": "stream",
     "text": [
      "10\n",
      "10.0\n"
     ]
    }
   ],
   "source": [
    "# Calculate MAE by hand\n",
    "print (10+0+20+10)/4\n",
    "\n",
    "# Calculate the MAE using scikit-learn\n",
    "from sklearn import metrics\n",
    "print metrics.mean_absolute_error(true,pred)"
   ]
  },
  {
   "cell_type": "markdown",
   "metadata": {},
   "source": [
    "**Mean Squared Error(MSE)** is the mean of the square erros:\n",
    "\n",
    "$$ \\frac{1}{n}=\\sum_{i=1}^{n}(|y_i -\\hat{y_i}|)^2 $$"
   ]
  },
  {
   "cell_type": "code",
   "execution_count": 15,
   "metadata": {
    "collapsed": false
   },
   "outputs": [
    {
     "name": "stdout",
     "output_type": "stream",
     "text": [
      "150\n",
      "150.0\n"
     ]
    }
   ],
   "source": [
    "# Calculate MSE by hand \n",
    "print (10**2 + 0**2 + 20**2 + 10**2)/4\n",
    "\n",
    "# calculate MSE using scikit learn\n",
    "print metrics.mean_squared_error(true,pred)"
   ]
  },
  {
   "cell_type": "markdown",
   "metadata": {},
   "source": [
    "**Root Mean Squared Error (RMSE)** is the square root of the mean of the squared errors:\n",
    "$$ \\sqrt(\\frac{1}{n}=\\sum_{i=1}^{n}(|y_i -\\hat{y_i}|)^2) $$"
   ]
  },
  {
   "cell_type": "code",
   "execution_count": 17,
   "metadata": {
    "collapsed": false
   },
   "outputs": [
    {
     "name": "stdout",
     "output_type": "stream",
     "text": [
      "12.2474487139\n",
      "12.2474487139\n"
     ]
    }
   ],
   "source": [
    "# calculate RSME by hand\n",
    "import numpy as np\n",
    "print np.sqrt((10**2+0**2+20**2+10**2)/4)\n",
    "\n",
    "# calculate RSME using scikit-learn\n",
    "print np.sqrt(metrics.mean_squared_error(true,pred))"
   ]
  },
  {
   "cell_type": "markdown",
   "metadata": {},
   "source": [
    "Comaparing these metrices:\n",
    "\n",
    "- **MAE** is the easiest to understand , because it is the average error.\n",
    "- **MSE** is more popular than MAE , because MSE \"punishes\" large errors.\n",
    "- **RSME** is even more popular than MSE , because RSME is interpreted in the \"y\" units"
   ]
  },
  {
   "cell_type": "markdown",
   "metadata": {},
   "source": [
    "# Computing the RSME for our sales predictions"
   ]
  },
  {
   "cell_type": "code",
   "execution_count": 18,
   "metadata": {
    "collapsed": false
   },
   "outputs": [
    {
     "name": "stdout",
     "output_type": "stream",
     "text": [
      "1.03290450104\n"
     ]
    }
   ],
   "source": [
    "print np.sqrt(metrics.mean_absolute_error(y_test,y_pred))"
   ]
  },
  {
   "cell_type": "markdown",
   "metadata": {},
   "source": [
    "# Feature Selection\n",
    "\n",
    "Does **Newspaper** \"belongs\" in our model? In other words, does it improve the quality of our predictions?\n",
    "\n",
    "Let's ***remove it*** and check the **RSME**"
   ]
  },
  {
   "cell_type": "code",
   "execution_count": 20,
   "metadata": {
    "collapsed": false
   },
   "outputs": [
    {
     "name": "stdout",
     "output_type": "stream",
     "text": [
      "1.38790346994\n"
     ]
    }
   ],
   "source": [
    "# create a python list of feature names\n",
    "feature_cols = ['TV','Radio']\n",
    "\n",
    "#use this list to select a subset of the original DataFrame\n",
    "x = data[feature_cols]\n",
    "\n",
    "# select into training and testing sets\n",
    "x_train,x_test,y_train,y_test = train_test_split(x,y,random_state=1)\n",
    "\n",
    "#fit the model to the training data(learn the co-efficients)\n",
    "linreg.fit(x_train,y_train)\n",
    "\n",
    "#make a prediction on the testing set\n",
    "y_pred = linreg.predict(x_test)\n",
    "\n",
    "#compute the RMSE of our prediction\n",
    "print np.sqrt(metrics.mean_squared_error(y_test,y_pred))"
   ]
  },
  {
   "cell_type": "markdown",
   "metadata": {},
   "source": [
    "The **RMSE decreased** when we removed Newspaper from the Model . (Error is something we want to minimize,so a ***lower number of RMSE is better***). Thus it is unlikely that this feature is useful for predicting Sales , ad should be removed from the model."
   ]
  },
  {
   "cell_type": "code",
   "execution_count": null,
   "metadata": {
    "collapsed": true
   },
   "outputs": [],
   "source": []
  }
 ],
 "metadata": {
  "kernelspec": {
   "display_name": "Python 2",
   "language": "python",
   "name": "python2"
  },
  "language_info": {
   "codemirror_mode": {
    "name": "ipython",
    "version": 2
   },
   "file_extension": ".py",
   "mimetype": "text/x-python",
   "name": "python",
   "nbconvert_exporter": "python",
   "pygments_lexer": "ipython2",
   "version": "2.7.12"
  }
 },
 "nbformat": 4,
 "nbformat_minor": 2
}
