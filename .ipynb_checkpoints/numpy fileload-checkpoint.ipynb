{
 "metadata": {
  "name": "",
  "signature": "sha256:b28a25364b423c80c9d96bbe042211a03f58d98635eecf87d2b7b9ee5e01b3bf"
 },
 "nbformat": 3,
 "nbformat_minor": 0,
 "worksheets": []
}